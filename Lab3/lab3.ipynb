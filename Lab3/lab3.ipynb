{
 "cells": [
  {
   "cell_type": "code",
   "execution_count": 13,
   "metadata": {},
   "outputs": [],
   "source": [
    "import pandas as pd\n",
    "import numpy as np\n",
    "\n",
    "# Đọc dữ liệu từ file CSV (thêm tên cột nếu thiếu)\n",
    "file_path = \"patient_heart_rate.csv\"\n",
    "df = pd.read_csv(file_path, header=None, encoding='utf-8', on_bad_lines='skip')\n",
    "\n",
    "# Đặt tên cột nếu thiếu tiêu đề\n",
    "columns = [\"ID\", \"Name\", \"Age\", \"Weight\", \"HR1\", \"HR2\", \"HR3\", \"HR4\", \"HR5\", \"HR6\"]\n",
    "df.columns = columns[:len(df.columns)]\n",
    "\n",
    "\n",
    "\n"
   ]
  },
  {
   "cell_type": "code",
   "execution_count": 14,
   "metadata": {},
   "outputs": [],
   "source": [
    "# Xử lý vấn đề 2: Tách cột \"Name\" thành \"Firstname\" và \"Lastname\"\n",
    "# (Đã xử lý trước đó, không cần thực hiện lại)\n",
    "\n",
    "# Xử lý vấn đề 3: Chuẩn hóa đơn vị đo lường của cột Weight\n",
    "def convert_weight(value):\n",
    "    if pd.isnull(value):\n",
    "        return np.nan\n",
    "    try:\n",
    "        if \"kg\" in str(value):\n",
    "            return float(str(value).replace(\"kg\", \"\"))\n",
    "        elif \"lbs\" in str(value):\n",
    "            return round(float(str(value).replace(\"lbs\", \"\")) * 0.453592, 2)  # Chuyển lbs -> kg\n",
    "        else:\n",
    "            # Attempt to convert directly to float if no unit is present\n",
    "            return float(value)\n",
    "    except ValueError:\n",
    "        return np.nan  # Return NaN for invalid strings\n",
    "\n",
    "df['Weight'] = df['Weight'].apply(convert_weight)\n",
    "\n",
    "# Xử lý vấn đề 4: Xóa các dòng trống hoàn toàn\n",
    "df.dropna(how='all', inplace=True)\n",
    "\n",
    "# Xử lý vấn đề 5: Xóa các dòng trùng lặp hoàn toàn\n",
    "df.drop_duplicates(inplace=True)"
   ]
  },
  {
   "cell_type": "code",
   "execution_count": 15,
   "metadata": {},
   "outputs": [
    {
     "name": "stderr",
     "output_type": "stream",
     "text": [
      "C:\\Users\\capta\\AppData\\Local\\Temp\\ipykernel_3200\\2693394813.py:2: FutureWarning: DataFrame.applymap has been deprecated. Use DataFrame.map instead.\n",
      "  df = df.applymap(lambda x: x if isinstance(x, (int, float)) or x.isascii() else \"warning\")\n",
      "C:\\Users\\capta\\AppData\\Local\\Temp\\ipykernel_3200\\2693394813.py:5: FutureWarning: A value is trying to be set on a copy of a DataFrame or Series through chained assignment using an inplace method.\n",
      "The behavior will change in pandas 3.0. This inplace method will never work because the intermediate object on which we are setting values always behaves as a copy.\n",
      "\n",
      "For example, when doing 'df[col].method(value, inplace=True)', try using 'df.method({col: value}, inplace=True)' or df[col] = df[col].method(value) instead, to perform the operation inplace on the original object.\n",
      "\n",
      "\n",
      "  df['Age'].fillna(df['Age'].mean(), inplace=True)\n",
      "C:\\Users\\capta\\AppData\\Local\\Temp\\ipykernel_3200\\2693394813.py:6: FutureWarning: A value is trying to be set on a copy of a DataFrame or Series through chained assignment using an inplace method.\n",
      "The behavior will change in pandas 3.0. This inplace method will never work because the intermediate object on which we are setting values always behaves as a copy.\n",
      "\n",
      "For example, when doing 'df[col].method(value, inplace=True)', try using 'df.method({col: value}, inplace=True)' or df[col] = df[col].method(value) instead, to perform the operation inplace on the original object.\n",
      "\n",
      "\n",
      "  df['Weight'].fillna(df['Weight'].mean(), inplace=True)\n"
     ]
    }
   ],
   "source": [
    "# Xử lý vấn đề 6: Thay thế ký tự không phải ASCII bằng \"warning\"\n",
    "df = df.applymap(lambda x: x if isinstance(x, (int, float)) or x.isascii() else \"warning\")\n",
    "\n",
    "# Xử lý vấn đề 7: Điền giá trị thiếu\n",
    "df['Age'].fillna(df['Age'].mean(), inplace=True)\n",
    "df['Weight'].fillna(df['Weight'].mean(), inplace=True)\n",
    "df.dropna(subset=['Age', 'Weight'], how='all', inplace=True)\n",
    "\n",
    "# Xử lý vấn đề 8: Tách dữ liệu trong header\n",
    "if df.columns[0].startswith(\"m\") or df.columns[0].startswith(\"f\"):\n",
    "    df['Sex'] = df.columns[0][0]\n",
    "    df['Time'] = df.columns[0][1:]\n",
    "    df['PulseRate'] = df.iloc[:, 0]\n",
    "    df.drop(columns=[df.columns[0]], inplace=True)"
   ]
  },
  {
   "cell_type": "code",
   "execution_count": 19,
   "metadata": {},
   "outputs": [
    {
     "name": "stdout",
     "output_type": "stream",
     "text": [
      "Dữ liệu đã được xử lý và lưu vào: patient_heart_rate_clean.csv\n"
     ]
    }
   ],
   "source": [
    "def fill_missing_bp(row, cols):\n",
    "    for col in cols:\n",
    "        if pd.isna(row[col]):\n",
    "            prev_vals = [row[c] for c in cols[:cols.index(col)] if not pd.isna(row[c])]\n",
    "            next_vals = [row[c] for c in cols[cols.index(col)+1:] if not pd.isna(row[c])]\n",
    "            \n",
    "            if prev_vals and next_vals:\n",
    "                row[col] = (prev_vals[-1] + next_vals[0]) / 2  # Trung bình liền trước và liền sau\n",
    "            elif len(prev_vals) >= 2:\n",
    "                row[col] = np.mean(prev_vals[-2:])  # Trung bình 2 giá liền trước\n",
    "            elif len(next_vals) >= 2:\n",
    "                row[col] = np.mean(next_vals[:2])  # Trung bình 2 giá liền sau\n",
    "            elif prev_vals or next_vals:\n",
    "                row[col] = np.mean(prev_vals + next_vals)  # Trung bình các giá trị huyết áp của người đó\n",
    "            elif 'Sex' in df.columns:\n",
    "                sex_mean = df[df['Sex'] == row['Sex']][col].mean()\n",
    "                if not np.isnan(sex_mean):\n",
    "                    row[col] = sex_mean  # Trung bình của nhóm giới tính\n",
    "                else:\n",
    "                    row[col] = df[col].mean()  # Trung bình của toàn bộ dữ liệu\n",
    "    return row\n",
    "\n",
    "hr_columns = [\"HR1\", \"HR2\", \"HR3\", \"HR4\", \"HR5\", \"HR6\"]\n",
    "# Convert HR columns to numeric, replacing invalid entries with NaN\n",
    "for col in hr_columns:\n",
    "    df[col] = pd.to_numeric(df[col], errors='coerce')\n",
    "\n",
    "df = df.apply(lambda row: fill_missing_bp(row, hr_columns), axis=1)\n",
    "\n",
    "\n",
    "# Ensure 'Firstname', 'Lastname', and 'Sex' columns exist\n",
    "if 'Name' in df.columns:\n",
    "    df[['Firstname', 'Lastname']] = df['Name'].str.split(' ', n=1, expand=True)\n",
    "else:\n",
    "    df['Firstname'] = np.nan\n",
    "    df['Lastname'] = np.nan\n",
    "\n",
    "if 'Sex' not in df.columns:\n",
    "    df['Sex'] = np.nan\n",
    "\n",
    "columns_order = [\"ID\", \"Firstname\", \"Lastname\", \"Age\", \"Weight\", \"Sex\", \"HR1\", \"HR2\", \"HR3\", \"HR4\", \"HR5\", \"HR6\"]\n",
    "df = df[columns_order]\n",
    "df.reset_index(drop=True, inplace=True)\n",
    "\n",
    "# Xuất dữ liệu đã xử lý\n",
    "output_path = \"patient_heart_rate_clean.csv\"\n",
    "df.to_csv(output_path, index=False)\n",
    "print(\"Dữ liệu đã được xử lý và lưu vào:\", output_path)"
   ]
  }
 ],
 "metadata": {
  "kernelspec": {
   "display_name": "Python 3",
   "language": "python",
   "name": "python3"
  },
  "language_info": {
   "codemirror_mode": {
    "name": "ipython",
    "version": 3
   },
   "file_extension": ".py",
   "mimetype": "text/x-python",
   "name": "python",
   "nbconvert_exporter": "python",
   "pygments_lexer": "ipython3",
   "version": "3.12.6"
  }
 },
 "nbformat": 4,
 "nbformat_minor": 2
}
