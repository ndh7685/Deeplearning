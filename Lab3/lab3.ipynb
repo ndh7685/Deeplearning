{
  "nbformat": 4,
  "nbformat_minor": 0,
  "metadata": {
    "colab": {
      "provenance": []
    },
    "kernelspec": {
      "name": "python3",
      "display_name": "Python 3"
    },
    "language_info": {
      "name": "python"
    }
  },
  "cells": [
    {
      "cell_type": "code",
      "source": [
        "import pandas as pd\n",
        "import numpy as np\n",
        "import matplotlib.pyplot as plt\n",
        "import seaborn as sns"
      ],
      "metadata": {
        "id": "7byzFk5RqRfR"
      },
      "execution_count": null,
      "outputs": []
    },
    {
      "cell_type": "code",
      "execution_count": null,
      "metadata": {
        "colab": {
          "base_uri": "https://localhost:8080/"
        },
        "id": "c3HNh34QoNrR",
        "outputId": "e69f0af8-f396-4b76-bbd1-9b59f2ff70c2"
      },
      "outputs": [
        {
          "output_type": "stream",
          "name": "stdout",
          "text": [
            "    Id            Name   Age      Weight m0006 m0612 m1218 f0006 f0612 f1218\n",
            "0  1.0    Mickéy Mousé  56.0       70kgs    72    69    71     -     -     -\n",
            "1  2.0     Donald Duck  34.0   154.89lbs     -     -     -    85    84    76\n",
            "2  3.0      Mini Mouse  16.0         NaN     -     -     -    65    69    72\n",
            "3  4.0  Scrooge McDuck   NaN       78kgs    78    79    72     -     -     -\n",
            "4  5.0    Pink Panther  54.0  198.658lbs     -     -     -    69   NaN    75\n"
          ]
        }
      ],
      "source": [
        "# 3. Vấn đề 1: Tiến hành tải dữ liệu vào chương trình ứng dụng Python và giải quyết vấn đề “Missing header in the csv file”\n",
        "\n",
        "column_names = [\"Id\", \"Name\", \"Age\", \"Weight\", \"m0006\", \"m0612\", \"m1218\", \"f0006\", \"f0612\", \"f1218\"]\n",
        "df = pd.read_csv(\"/content/patient_heart_rate.csv\", names=column_names, on_bad_lines='skip')\n",
        "print(df.head())"
      ]
    },
    {
      "cell_type": "code",
      "source": [
        "# 4. Vấn đề 2: Xử lý vấn đề một cột lưu hỗn hợp nhiều dữ liệu, ở đây là cột “Name” chứa bao gồm “Firstname” và “Lastname”, giải pháp là ta sẽ tách ra làm 2 cột\n",
        "\n",
        "df[['Firstname', 'Lastname']] = df['Name'].str.split(expand=True)\n",
        "df = df.drop('Name', axis=1)\n",
        "print(df)"
      ],
      "metadata": {
        "colab": {
          "base_uri": "https://localhost:8080/"
        },
        "id": "P-53ljCPqO5U",
        "outputId": "dc50c15c-b023-48ed-a0cf-8b0bb93bddf2"
      },
      "execution_count": null,
      "outputs": [
        {
          "output_type": "stream",
          "name": "stdout",
          "text": [
            "      Id   Age      Weight m0006 m0612 m1218 f0006 f0612 f1218 Firstname  \\\n",
            "0    1.0  56.0       70kgs    72    69    71     -     -     -    Mickéy   \n",
            "1    2.0  34.0   154.89lbs     -     -     -    85    84    76    Donald   \n",
            "2    3.0  16.0         NaN     -     -     -    65    69    72      Mini   \n",
            "3    4.0   NaN       78kgs    78    79    72     -     -     -   Scrooge   \n",
            "4    5.0  54.0  198.658lbs     -     -     -    69   NaN    75      Pink   \n",
            "5    6.0  52.0      189lbs     -     -     -    68    75    72      Huey   \n",
            "6    7.0  19.0       56kgs     -     -     -    71    78    75     Dewey   \n",
            "7    8.0  32.0       78kgs    78    76    75     -     -     -    Scööpy   \n",
            "8    NaN   NaN         NaN   NaN   NaN   NaN   NaN   NaN   NaN       NaN   \n",
            "9    NaN   NaN         NaN   NaN   NaN   NaN   NaN   NaN   NaN       NaN   \n",
            "10   9.0  52.0      189lbs     -     -     -    68    75    72      Huey   \n",
            "11  10.0  12.0       45kgs     -     -     -    92    95    87     Louie   \n",
            "12  11.0   NaN       60kgs    78    75    72     -     -     -     Henry   \n",
            "13  12.0  34.0         NaN    65    67    55     -     -     -    Michel   \n",
            "14  13.0   NaN         NaN     -     -     -    68    72    70      Tana   \n",
            "15  15.0  52.0      180lbs     -     -     -    68    75    72       NaN   \n",
            "\n",
            "   Lastname  \n",
            "0     Mousé  \n",
            "1      Duck  \n",
            "2     Mouse  \n",
            "3    McDuck  \n",
            "4   Panther  \n",
            "5    McDuck  \n",
            "6    McDuck  \n",
            "7       Doo  \n",
            "8       NaN  \n",
            "9       NaN  \n",
            "10   McDuck  \n",
            "11   McDuck  \n",
            "12      Nam  \n",
            "13     Long  \n",
            "14    Ricky  \n",
            "15      NaN  \n"
          ]
        }
      ]
    },
    {
      "cell_type": "code",
      "source": [
        "# 5. Vấn đề 3: Cột Weight có vấn đề về không thống nhất các đơn vị đo lường trong dữ liệu. Ta sẽ chuyển các đơn vị về thành đơn vị chuẩn “kg”\n",
        "weight = df['Weight']\n",
        "for i in range (0,len(weight)):\n",
        "  x = str(weight[i])\n",
        "  if \"lbs\" in x[-3:]:\n",
        "    x = x[:-3:]\n",
        "    float_x = float(x)\n",
        "    y = int(float_x/2.2)\n",
        "    y = str(y)+\"kgs\"\n",
        "    weight[i] = y\n",
        "print(df)"
      ],
      "metadata": {
        "id": "x1B3x8-zs1Ia",
        "colab": {
          "base_uri": "https://localhost:8080/"
        },
        "outputId": "2f6e3fbe-b993-4bad-9616-a8cc7a7ef955"
      },
      "execution_count": null,
      "outputs": [
        {
          "output_type": "stream",
          "name": "stdout",
          "text": [
            "      Id   Age Weight m0006 m0612 m1218 f0006 f0612 f1218 Firstname Lastname\n",
            "0    1.0  56.0  70kgs    72    69    71     -     -     -    Mickéy    Mousé\n",
            "1    2.0  34.0  70kgs     -     -     -    85    84    76    Donald     Duck\n",
            "2    3.0  16.0    NaN     -     -     -    65    69    72      Mini    Mouse\n",
            "3    4.0   NaN  78kgs    78    79    72     -     -     -   Scrooge   McDuck\n",
            "4    5.0  54.0  90kgs     -     -     -    69   NaN    75      Pink  Panther\n",
            "5    6.0  52.0  85kgs     -     -     -    68    75    72      Huey   McDuck\n",
            "6    7.0  19.0  56kgs     -     -     -    71    78    75     Dewey   McDuck\n",
            "7    8.0  32.0  78kgs    78    76    75     -     -     -    Scööpy      Doo\n",
            "8    NaN   NaN    NaN   NaN   NaN   NaN   NaN   NaN   NaN       NaN      NaN\n",
            "9    NaN   NaN    NaN   NaN   NaN   NaN   NaN   NaN   NaN       NaN      NaN\n",
            "10   9.0  52.0  85kgs     -     -     -    68    75    72      Huey   McDuck\n",
            "11  10.0  12.0  45kgs     -     -     -    92    95    87     Louie   McDuck\n",
            "12  11.0   NaN  60kgs    78    75    72     -     -     -     Henry      Nam\n",
            "13  12.0  34.0    NaN    65    67    55     -     -     -    Michel     Long\n",
            "14  13.0   NaN    NaN     -     -     -    68    72    70      Tana    Ricky\n",
            "15  15.0  52.0  81kgs     -     -     -    68    75    72       NaN      NaN\n"
          ]
        },
        {
          "output_type": "stream",
          "name": "stderr",
          "text": [
            "<ipython-input-20-b868c336e218>:10: SettingWithCopyWarning: \n",
            "A value is trying to be set on a copy of a slice from a DataFrame\n",
            "\n",
            "See the caveats in the documentation: https://pandas.pydata.org/pandas-docs/stable/user_guide/indexing.html#returning-a-view-versus-a-copy\n",
            "  weight[i] = y\n",
            "<ipython-input-20-b868c336e218>:10: SettingWithCopyWarning: \n",
            "A value is trying to be set on a copy of a slice from a DataFrame\n",
            "\n",
            "See the caveats in the documentation: https://pandas.pydata.org/pandas-docs/stable/user_guide/indexing.html#returning-a-view-versus-a-copy\n",
            "  weight[i] = y\n",
            "<ipython-input-20-b868c336e218>:10: SettingWithCopyWarning: \n",
            "A value is trying to be set on a copy of a slice from a DataFrame\n",
            "\n",
            "See the caveats in the documentation: https://pandas.pydata.org/pandas-docs/stable/user_guide/indexing.html#returning-a-view-versus-a-copy\n",
            "  weight[i] = y\n",
            "<ipython-input-20-b868c336e218>:10: SettingWithCopyWarning: \n",
            "A value is trying to be set on a copy of a slice from a DataFrame\n",
            "\n",
            "See the caveats in the documentation: https://pandas.pydata.org/pandas-docs/stable/user_guide/indexing.html#returning-a-view-versus-a-copy\n",
            "  weight[i] = y\n",
            "<ipython-input-20-b868c336e218>:10: SettingWithCopyWarning: \n",
            "A value is trying to be set on a copy of a slice from a DataFrame\n",
            "\n",
            "See the caveats in the documentation: https://pandas.pydata.org/pandas-docs/stable/user_guide/indexing.html#returning-a-view-versus-a-copy\n",
            "  weight[i] = y\n"
          ]
        }
      ]
    },
    {
      "cell_type": "code",
      "source": [
        "# 6. Vấn đề 4: Vấn đề về xuất hiện dòng dữ liệu rỗng (không có giá trị: NaN). Giải pháp có thể đưa ra là xóa bỏ\n",
        "df.dropna(how='all', inplace=True)\n",
        "print(df)"
      ],
      "metadata": {
        "id": "B0k3a3KDv8tY",
        "colab": {
          "base_uri": "https://localhost:8080/"
        },
        "outputId": "1aa75b9b-a5cf-4b9b-dedf-17c75c6ec2f9"
      },
      "execution_count": null,
      "outputs": [
        {
          "output_type": "stream",
          "name": "stdout",
          "text": [
            "      Id   Age Weight m0006 m0612 m1218 f0006 f0612 f1218 Firstname Lastname\n",
            "0    1.0  56.0  70kgs    72    69    71     -     -     -    Mickéy    Mousé\n",
            "1    2.0  34.0  70kgs     -     -     -    85    84    76    Donald     Duck\n",
            "2    3.0  16.0    NaN     -     -     -    65    69    72      Mini    Mouse\n",
            "3    4.0   NaN  78kgs    78    79    72     -     -     -   Scrooge   McDuck\n",
            "4    5.0  54.0  90kgs     -     -     -    69   NaN    75      Pink  Panther\n",
            "5    6.0  52.0  85kgs     -     -     -    68    75    72      Huey   McDuck\n",
            "6    7.0  19.0  56kgs     -     -     -    71    78    75     Dewey   McDuck\n",
            "7    8.0  32.0  78kgs    78    76    75     -     -     -    Scööpy      Doo\n",
            "10   9.0  52.0  85kgs     -     -     -    68    75    72      Huey   McDuck\n",
            "11  10.0  12.0  45kgs     -     -     -    92    95    87     Louie   McDuck\n",
            "12  11.0   NaN  60kgs    78    75    72     -     -     -     Henry      Nam\n",
            "13  12.0  34.0    NaN    65    67    55     -     -     -    Michel     Long\n",
            "14  13.0   NaN    NaN     -     -     -    68    72    70      Tana    Ricky\n",
            "15  15.0  52.0  81kgs     -     -     -    68    75    72       NaN      NaN\n"
          ]
        }
      ]
    },
    {
      "cell_type": "code",
      "source": [
        "# 7. Vấn đề 5: Có nhiều dòng dữ liệu bị trùng lắp thông tin hoàn toàn[fullname, lastname, age, weight,....], giải pháp đưa ra là chỉ giữ lại một dòng dữ liệu, tuy nhiên giải pháp phải dựa trên nghiệp vụ của tập dữ liệu và quan sát của người xử lý.\n",
        "df = df.drop_duplicates(subset=['Firstname', 'Lastname', 'Age', 'Weight'])\n",
        "print(df)"
      ],
      "metadata": {
        "id": "yREYkoxhwHwk",
        "colab": {
          "base_uri": "https://localhost:8080/"
        },
        "outputId": "43cce574-72ca-46a3-9373-b92d075523b9"
      },
      "execution_count": null,
      "outputs": [
        {
          "output_type": "stream",
          "name": "stdout",
          "text": [
            "      Id   Age Weight m0006 m0612 m1218 f0006 f0612 f1218 Firstname Lastname\n",
            "0    1.0  56.0  70kgs    72    69    71     -     -     -    Mickéy    Mousé\n",
            "1    2.0  34.0  70kgs     -     -     -    85    84    76    Donald     Duck\n",
            "2    3.0  16.0    NaN     -     -     -    65    69    72      Mini    Mouse\n",
            "3    4.0   NaN  78kgs    78    79    72     -     -     -   Scrooge   McDuck\n",
            "4    5.0  54.0  90kgs     -     -     -    69   NaN    75      Pink  Panther\n",
            "5    6.0  52.0  85kgs     -     -     -    68    75    72      Huey   McDuck\n",
            "6    7.0  19.0  56kgs     -     -     -    71    78    75     Dewey   McDuck\n",
            "7    8.0  32.0  78kgs    78    76    75     -     -     -    Scööpy      Doo\n",
            "11  10.0  12.0  45kgs     -     -     -    92    95    87     Louie   McDuck\n",
            "12  11.0   NaN  60kgs    78    75    72     -     -     -     Henry      Nam\n",
            "13  12.0  34.0    NaN    65    67    55     -     -     -    Michel     Long\n",
            "14  13.0   NaN    NaN     -     -     -    68    72    70      Tana    Ricky\n",
            "15  15.0  52.0  81kgs     -     -     -    68    75    72       NaN      NaN\n"
          ]
        }
      ]
    },
    {
      "cell_type": "code",
      "source": [
        "# 8. Vấn đề 6: Xuất hiện dữ liệu bị ảnh hưởng bởi lỗi non-ASCII, không định dạng ASCII. Giải pháp: Tùy vào nghiệp vụ ta có thể: xóa dữ liệu tại đó, thay thế bằng dữ liệu khác hoặc thay bằng việc đánh dấu bằng một kí tự khác (ví dụ: ‘warning’)\n",
        "\n",
        "df.Firstname.replace({r'[^\\x00-\\x7F]+':''}, regex=True, inplace=True)\n",
        "df.Lastname.replace({r'[^\\x00-\\x7F]+':''}, regex=True, inplace=True)\n",
        "print(df)"
      ],
      "metadata": {
        "id": "HAb_ZcVEwnWn",
        "colab": {
          "base_uri": "https://localhost:8080/"
        },
        "outputId": "c8d88672-f5c7-4833-bdde-c43f9e5c5fc5"
      },
      "execution_count": null,
      "outputs": [
        {
          "output_type": "stream",
          "name": "stdout",
          "text": [
            "      Id   Age Weight m0006 m0612 m1218 f0006 f0612 f1218 Firstname Lastname\n",
            "0    1.0  56.0  70kgs    72    69    71     -     -     -     Micky     Mous\n",
            "1    2.0  34.0  70kgs     -     -     -    85    84    76    Donald     Duck\n",
            "2    3.0  16.0    NaN     -     -     -    65    69    72      Mini    Mouse\n",
            "3    4.0   NaN  78kgs    78    79    72     -     -     -   Scrooge   McDuck\n",
            "4    5.0  54.0  90kgs     -     -     -    69   NaN    75      Pink  Panther\n",
            "5    6.0  52.0  85kgs     -     -     -    68    75    72      Huey   McDuck\n",
            "6    7.0  19.0  56kgs     -     -     -    71    78    75     Dewey   McDuck\n",
            "7    8.0  32.0  78kgs    78    76    75     -     -     -      Scpy      Doo\n",
            "11  10.0  12.0  45kgs     -     -     -    92    95    87     Louie   McDuck\n",
            "12  11.0   NaN  60kgs    78    75    72     -     -     -     Henry      Nam\n",
            "13  12.0  34.0    NaN    65    67    55     -     -     -    Michel     Long\n",
            "14  13.0   NaN    NaN     -     -     -    68    72    70      Tana    Ricky\n",
            "15  15.0  52.0  81kgs     -     -     -    68    75    72       NaN      NaN\n"
          ]
        },
        {
          "output_type": "stream",
          "name": "stderr",
          "text": [
            "<ipython-input-23-f18b2c69c9d9>:3: FutureWarning: A value is trying to be set on a copy of a DataFrame or Series through chained assignment using an inplace method.\n",
            "The behavior will change in pandas 3.0. This inplace method will never work because the intermediate object on which we are setting values always behaves as a copy.\n",
            "\n",
            "For example, when doing 'df[col].method(value, inplace=True)', try using 'df.method({col: value}, inplace=True)' or df[col] = df[col].method(value) instead, to perform the operation inplace on the original object.\n",
            "\n",
            "\n",
            "  df.Firstname.replace({r'[^\\x00-\\x7F]+':''}, regex=True, inplace=True)\n",
            "<ipython-input-23-f18b2c69c9d9>:3: SettingWithCopyWarning: \n",
            "A value is trying to be set on a copy of a slice from a DataFrame\n",
            "\n",
            "See the caveats in the documentation: https://pandas.pydata.org/pandas-docs/stable/user_guide/indexing.html#returning-a-view-versus-a-copy\n",
            "  df.Firstname.replace({r'[^\\x00-\\x7F]+':''}, regex=True, inplace=True)\n",
            "<ipython-input-23-f18b2c69c9d9>:4: FutureWarning: A value is trying to be set on a copy of a DataFrame or Series through chained assignment using an inplace method.\n",
            "The behavior will change in pandas 3.0. This inplace method will never work because the intermediate object on which we are setting values always behaves as a copy.\n",
            "\n",
            "For example, when doing 'df[col].method(value, inplace=True)', try using 'df.method({col: value}, inplace=True)' or df[col] = df[col].method(value) instead, to perform the operation inplace on the original object.\n",
            "\n",
            "\n",
            "  df.Lastname.replace({r'[^\\x00-\\x7F]+':''}, regex=True, inplace=True)\n",
            "<ipython-input-23-f18b2c69c9d9>:4: SettingWithCopyWarning: \n",
            "A value is trying to be set on a copy of a slice from a DataFrame\n",
            "\n",
            "See the caveats in the documentation: https://pandas.pydata.org/pandas-docs/stable/user_guide/indexing.html#returning-a-view-versus-a-copy\n",
            "  df.Lastname.replace({r'[^\\x00-\\x7F]+':''}, regex=True, inplace=True)\n"
          ]
        }
      ]
    },
    {
      "cell_type": "code",
      "source": [
        "# 9. Vấn đề 7: “Missing values”, vấn đề này xảy ra tại các cột “Age”, “Weight” và “Heart Rate”.\n",
        "\n",
        "index_ageweightnull = df[df['Age'].isna() & df['Weight'].isna()].index\n",
        "print(index_ageweightnull)\n",
        "df.drop(index_ageweightnull, inplace=True)\n",
        "df['Age'].fillna(df['Age'].mean(), inplace=True)\n",
        "print(df)"
      ],
      "metadata": {
        "colab": {
          "base_uri": "https://localhost:8080/"
        },
        "id": "BtJxQegWxznU",
        "outputId": "9f17abc6-1bd0-4fd2-f9cd-ee3bfd3bdc59"
      },
      "execution_count": null,
      "outputs": [
        {
          "output_type": "stream",
          "name": "stdout",
          "text": [
            "Index([14], dtype='int64')\n",
            "      Id   Age Weight m0006 m0612 m1218 f0006 f0612 f1218 Firstname Lastname\n",
            "0    1.0  56.0  70kgs    72    69    71     -     -     -     Micky     Mous\n",
            "1    2.0  34.0  70kgs     -     -     -    85    84    76    Donald     Duck\n",
            "2    3.0  16.0    NaN     -     -     -    65    69    72      Mini    Mouse\n",
            "3    4.0  36.1  78kgs    78    79    72     -     -     -   Scrooge   McDuck\n",
            "4    5.0  54.0  90kgs     -     -     -    69   NaN    75      Pink  Panther\n",
            "5    6.0  52.0  85kgs     -     -     -    68    75    72      Huey   McDuck\n",
            "6    7.0  19.0  56kgs     -     -     -    71    78    75     Dewey   McDuck\n",
            "7    8.0  32.0  78kgs    78    76    75     -     -     -      Scpy      Doo\n",
            "11  10.0  12.0  45kgs     -     -     -    92    95    87     Louie   McDuck\n",
            "12  11.0  36.1  60kgs    78    75    72     -     -     -     Henry      Nam\n",
            "13  12.0  34.0    NaN    65    67    55     -     -     -    Michel     Long\n",
            "15  15.0  52.0  81kgs     -     -     -    68    75    72       NaN      NaN\n"
          ]
        },
        {
          "output_type": "stream",
          "name": "stderr",
          "text": [
            "<ipython-input-24-32a048ad7e1f>:5: SettingWithCopyWarning: \n",
            "A value is trying to be set on a copy of a slice from a DataFrame\n",
            "\n",
            "See the caveats in the documentation: https://pandas.pydata.org/pandas-docs/stable/user_guide/indexing.html#returning-a-view-versus-a-copy\n",
            "  df.drop(index_ageweightnull, inplace=True)\n",
            "<ipython-input-24-32a048ad7e1f>:6: FutureWarning: A value is trying to be set on a copy of a DataFrame or Series through chained assignment using an inplace method.\n",
            "The behavior will change in pandas 3.0. This inplace method will never work because the intermediate object on which we are setting values always behaves as a copy.\n",
            "\n",
            "For example, when doing 'df[col].method(value, inplace=True)', try using 'df.method({col: value}, inplace=True)' or df[col] = df[col].method(value) instead, to perform the operation inplace on the original object.\n",
            "\n",
            "\n",
            "  df['Age'].fillna(df['Age'].mean(), inplace=True)\n",
            "<ipython-input-24-32a048ad7e1f>:6: SettingWithCopyWarning: \n",
            "A value is trying to be set on a copy of a slice from a DataFrame\n",
            "\n",
            "See the caveats in the documentation: https://pandas.pydata.org/pandas-docs/stable/user_guide/indexing.html#returning-a-view-versus-a-copy\n",
            "  df['Age'].fillna(df['Age'].mean(), inplace=True)\n"
          ]
        }
      ]
    },
    {
      "cell_type": "code",
      "source": [
        "# 10. Vấn đề 8: “một cột chứa quá nhiều thông tin cần được phân rã”, như trong bài toán này ta thấy header “m0006” chứa các nội dung bao gồm: m → male, 1218 ~ 12-18 (mm-dd).\n",
        "\n",
        "df = pd.melt(df,id_vars=['Id','Age','Weight','Firstname','Lastname'], value_name='PulseRate',var_name='sex_and_time').sort_values(['Id','Age','Weight','Firstname','Lastname'])\n",
        "tmp_df = df['sex_and_time'].str.extract('(\\D)(\\d+)(\\d{2})', expand=True)\n",
        "\n",
        "tmp_df.columns = ['Sex', 'hours_lower', 'hours_upper']\n",
        "\n",
        "tmp_df['Time'] = tmp_df['hours_lower'] + '-' + tmp_df['hours_upper']\n",
        "df = pd.concat([df, tmp_df], axis=1)\n",
        "df = df.drop(['sex_and_time','hours_lower','hours_upper'], axis=1)\n",
        "df = df.dropna()\n",
        "print(df)"
      ],
      "metadata": {
        "colab": {
          "base_uri": "https://localhost:8080/"
        },
        "id": "kRJyRFR41lv3",
        "outputId": "d57e7405-2a72-4a47-dfab-a44fbf4d646c"
      },
      "execution_count": null,
      "outputs": [
        {
          "output_type": "stream",
          "name": "stdout",
          "text": [
            "      Id   Age Weight Firstname Lastname PulseRate Sex   Time\n",
            "0    1.0  56.0  70kgs     Micky     Mous        72   m  00-06\n",
            "12   1.0  56.0  70kgs     Micky     Mous        69   m  06-12\n",
            "24   1.0  56.0  70kgs     Micky     Mous        71   m  12-18\n",
            "36   1.0  56.0  70kgs     Micky     Mous         -   f  00-06\n",
            "48   1.0  56.0  70kgs     Micky     Mous         -   f  06-12\n",
            "60   1.0  56.0  70kgs     Micky     Mous         -   f  12-18\n",
            "1    2.0  34.0  70kgs    Donald     Duck         -   m  00-06\n",
            "13   2.0  34.0  70kgs    Donald     Duck         -   m  06-12\n",
            "25   2.0  34.0  70kgs    Donald     Duck         -   m  12-18\n",
            "37   2.0  34.0  70kgs    Donald     Duck        85   f  00-06\n",
            "49   2.0  34.0  70kgs    Donald     Duck        84   f  06-12\n",
            "61   2.0  34.0  70kgs    Donald     Duck        76   f  12-18\n",
            "3    4.0  36.1  78kgs   Scrooge   McDuck        78   m  00-06\n",
            "15   4.0  36.1  78kgs   Scrooge   McDuck        79   m  06-12\n",
            "27   4.0  36.1  78kgs   Scrooge   McDuck        72   m  12-18\n",
            "39   4.0  36.1  78kgs   Scrooge   McDuck         -   f  00-06\n",
            "51   4.0  36.1  78kgs   Scrooge   McDuck         -   f  06-12\n",
            "63   4.0  36.1  78kgs   Scrooge   McDuck         -   f  12-18\n",
            "4    5.0  54.0  90kgs      Pink  Panther         -   m  00-06\n",
            "16   5.0  54.0  90kgs      Pink  Panther         -   m  06-12\n",
            "28   5.0  54.0  90kgs      Pink  Panther         -   m  12-18\n",
            "40   5.0  54.0  90kgs      Pink  Panther        69   f  00-06\n",
            "64   5.0  54.0  90kgs      Pink  Panther        75   f  12-18\n",
            "5    6.0  52.0  85kgs      Huey   McDuck         -   m  00-06\n",
            "17   6.0  52.0  85kgs      Huey   McDuck         -   m  06-12\n",
            "29   6.0  52.0  85kgs      Huey   McDuck         -   m  12-18\n",
            "41   6.0  52.0  85kgs      Huey   McDuck        68   f  00-06\n",
            "53   6.0  52.0  85kgs      Huey   McDuck        75   f  06-12\n",
            "65   6.0  52.0  85kgs      Huey   McDuck        72   f  12-18\n",
            "6    7.0  19.0  56kgs     Dewey   McDuck         -   m  00-06\n",
            "18   7.0  19.0  56kgs     Dewey   McDuck         -   m  06-12\n",
            "30   7.0  19.0  56kgs     Dewey   McDuck         -   m  12-18\n",
            "42   7.0  19.0  56kgs     Dewey   McDuck        71   f  00-06\n",
            "54   7.0  19.0  56kgs     Dewey   McDuck        78   f  06-12\n",
            "66   7.0  19.0  56kgs     Dewey   McDuck        75   f  12-18\n",
            "7    8.0  32.0  78kgs      Scpy      Doo        78   m  00-06\n",
            "19   8.0  32.0  78kgs      Scpy      Doo        76   m  06-12\n",
            "31   8.0  32.0  78kgs      Scpy      Doo        75   m  12-18\n",
            "43   8.0  32.0  78kgs      Scpy      Doo         -   f  00-06\n",
            "55   8.0  32.0  78kgs      Scpy      Doo         -   f  06-12\n",
            "67   8.0  32.0  78kgs      Scpy      Doo         -   f  12-18\n",
            "8   10.0  12.0  45kgs     Louie   McDuck         -   m  00-06\n",
            "20  10.0  12.0  45kgs     Louie   McDuck         -   m  06-12\n",
            "32  10.0  12.0  45kgs     Louie   McDuck         -   m  12-18\n",
            "44  10.0  12.0  45kgs     Louie   McDuck        92   f  00-06\n",
            "56  10.0  12.0  45kgs     Louie   McDuck        95   f  06-12\n",
            "68  10.0  12.0  45kgs     Louie   McDuck        87   f  12-18\n",
            "9   11.0  36.1  60kgs     Henry      Nam        78   m  00-06\n",
            "21  11.0  36.1  60kgs     Henry      Nam        75   m  06-12\n",
            "33  11.0  36.1  60kgs     Henry      Nam        72   m  12-18\n",
            "45  11.0  36.1  60kgs     Henry      Nam         -   f  00-06\n",
            "57  11.0  36.1  60kgs     Henry      Nam         -   f  06-12\n",
            "69  11.0  36.1  60kgs     Henry      Nam         -   f  12-18\n"
          ]
        }
      ]
    },
    {
      "cell_type": "code",
      "source": [
        "df.to_csv('result.csv')"
      ],
      "metadata": {
        "id": "AKtYEdGnCZPc"
      },
      "execution_count": null,
      "outputs": []
    },
    {
      "cell_type": "code",
      "source": [
        "# 11. Hãy khảo sát tỉ lệ dữ liệu thiếu trên biến huyết áp. Dữ liệu bị thiếu thì hãy xử lý bằng phương pháp sau\n",
        "\n",
        "df[\"PulseRate\"] = pd.to_numeric(df[\"PulseRate\"], errors=\"coerce\")\n",
        "def fill_missing_bp(series):\n",
        "    series = series.copy()\n",
        "    indices = series[series.isna()].index\n",
        "\n",
        "    for i in indices:\n",
        "        prev_idx = i - 1 if i - 1 in series.index else None\n",
        "        next_idx = i + 1 if i + 1 in series.index else None\n",
        "\n",
        "        if prev_idx is not None and next_idx is not None:\n",
        "            if not pd.isna(series[prev_idx]) and not pd.isna(series[next_idx]):\n",
        "                series[i] = (series[prev_idx] + series[next_idx]) / 2\n",
        "                continue\n",
        "\n",
        "        if prev_idx is not None and prev_idx - 1 in series.index:\n",
        "            if not pd.isna(series[prev_idx]) and not pd.isna(series[prev_idx - 1]):\n",
        "                series[i] = (series[prev_idx] + series[prev_idx - 1]) / 2\n",
        "                continue\n",
        "\n",
        "        if next_idx is not None and next_idx + 1 in series.index:\n",
        "            if not pd.isna(series[next_idx]) and not pd.isna(series[next_idx + 1]):\n",
        "                series[i] = (series[next_idx] + series[next_idx + 1]) / 2\n",
        "                continue\n",
        "\n",
        "        if not series.dropna().empty:\n",
        "            series[i] = series.dropna().mean()\n",
        "\n",
        "    return series\n",
        "\n",
        "df[\"PulseRate\"] = df.groupby(\"Id\")[\"PulseRate\"].transform(fill_missing_bp)\n",
        "\n",
        "df[\"PulseRate\"] = df.groupby(\"Sex\")[\"PulseRate\"].transform(lambda x: x.fillna(x.mean()))\n",
        "\n",
        "df[\"PulseRate\"].fillna(df[\"PulseRate\"].mean(), inplace=True)\n",
        "\n",
        "print(df)"
      ],
      "metadata": {
        "id": "r91n3bYR2OwG",
        "colab": {
          "base_uri": "https://localhost:8080/"
        },
        "outputId": "6af97382-da5a-411d-c1a7-0f17ddb00bed"
      },
      "execution_count": null,
      "outputs": [
        {
          "output_type": "stream",
          "name": "stdout",
          "text": [
            "      Id   Age Weight Firstname Lastname  PulseRate Sex   Time\n",
            "0    1.0  56.0  70kgs     Micky     Mous  72.000000   m  00-06\n",
            "12   1.0  56.0  70kgs     Micky     Mous  69.000000   m  06-12\n",
            "24   1.0  56.0  70kgs     Micky     Mous  71.000000   m  12-18\n",
            "36   1.0  56.0  70kgs     Micky     Mous  70.666667   f  00-06\n",
            "48   1.0  56.0  70kgs     Micky     Mous  70.666667   f  06-12\n",
            "60   1.0  56.0  70kgs     Micky     Mous  70.666667   f  12-18\n",
            "1    2.0  34.0  70kgs    Donald     Duck  81.666667   m  00-06\n",
            "13   2.0  34.0  70kgs    Donald     Duck  81.666667   m  06-12\n",
            "25   2.0  34.0  70kgs    Donald     Duck  81.666667   m  12-18\n",
            "37   2.0  34.0  70kgs    Donald     Duck  85.000000   f  00-06\n",
            "49   2.0  34.0  70kgs    Donald     Duck  84.000000   f  06-12\n",
            "61   2.0  34.0  70kgs    Donald     Duck  76.000000   f  12-18\n",
            "3    4.0  36.1  78kgs   Scrooge   McDuck  78.000000   m  00-06\n",
            "15   4.0  36.1  78kgs   Scrooge   McDuck  79.000000   m  06-12\n",
            "27   4.0  36.1  78kgs   Scrooge   McDuck  72.000000   m  12-18\n",
            "39   4.0  36.1  78kgs   Scrooge   McDuck  76.333333   f  00-06\n",
            "51   4.0  36.1  78kgs   Scrooge   McDuck  76.333333   f  06-12\n",
            "63   4.0  36.1  78kgs   Scrooge   McDuck  76.333333   f  12-18\n",
            "4    5.0  54.0  90kgs      Pink  Panther  72.000000   m  00-06\n",
            "16   5.0  54.0  90kgs      Pink  Panther  72.000000   m  06-12\n",
            "28   5.0  54.0  90kgs      Pink  Panther  72.000000   m  12-18\n",
            "40   5.0  54.0  90kgs      Pink  Panther  69.000000   f  00-06\n",
            "64   5.0  54.0  90kgs      Pink  Panther  75.000000   f  12-18\n",
            "5    6.0  52.0  85kgs      Huey   McDuck  71.666667   m  00-06\n",
            "17   6.0  52.0  85kgs      Huey   McDuck  71.666667   m  06-12\n",
            "29   6.0  52.0  85kgs      Huey   McDuck  71.666667   m  12-18\n",
            "41   6.0  52.0  85kgs      Huey   McDuck  68.000000   f  00-06\n",
            "53   6.0  52.0  85kgs      Huey   McDuck  75.000000   f  06-12\n",
            "65   6.0  52.0  85kgs      Huey   McDuck  72.000000   f  12-18\n",
            "6    7.0  19.0  56kgs     Dewey   McDuck  74.666667   m  00-06\n",
            "18   7.0  19.0  56kgs     Dewey   McDuck  74.666667   m  06-12\n",
            "30   7.0  19.0  56kgs     Dewey   McDuck  74.666667   m  12-18\n",
            "42   7.0  19.0  56kgs     Dewey   McDuck  71.000000   f  00-06\n",
            "54   7.0  19.0  56kgs     Dewey   McDuck  78.000000   f  06-12\n",
            "66   7.0  19.0  56kgs     Dewey   McDuck  75.000000   f  12-18\n",
            "7    8.0  32.0  78kgs      Scpy      Doo  78.000000   m  00-06\n",
            "19   8.0  32.0  78kgs      Scpy      Doo  76.000000   m  06-12\n",
            "31   8.0  32.0  78kgs      Scpy      Doo  75.000000   m  12-18\n",
            "43   8.0  32.0  78kgs      Scpy      Doo  76.333333   f  00-06\n",
            "55   8.0  32.0  78kgs      Scpy      Doo  76.333333   f  06-12\n",
            "67   8.0  32.0  78kgs      Scpy      Doo  76.333333   f  12-18\n",
            "8   10.0  12.0  45kgs     Louie   McDuck  91.333333   m  00-06\n",
            "20  10.0  12.0  45kgs     Louie   McDuck  91.333333   m  06-12\n",
            "32  10.0  12.0  45kgs     Louie   McDuck  91.333333   m  12-18\n",
            "44  10.0  12.0  45kgs     Louie   McDuck  92.000000   f  00-06\n",
            "56  10.0  12.0  45kgs     Louie   McDuck  95.000000   f  06-12\n",
            "68  10.0  12.0  45kgs     Louie   McDuck  87.000000   f  12-18\n",
            "9   11.0  36.1  60kgs     Henry      Nam  78.000000   m  00-06\n",
            "21  11.0  36.1  60kgs     Henry      Nam  75.000000   m  06-12\n",
            "33  11.0  36.1  60kgs     Henry      Nam  72.000000   m  12-18\n",
            "45  11.0  36.1  60kgs     Henry      Nam  75.000000   f  00-06\n",
            "57  11.0  36.1  60kgs     Henry      Nam  75.000000   f  06-12\n",
            "69  11.0  36.1  60kgs     Henry      Nam  75.000000   f  12-18\n"
          ]
        },
        {
          "output_type": "stream",
          "name": "stderr",
          "text": [
            "<ipython-input-29-987cfe1e1922>:43: FutureWarning: A value is trying to be set on a copy of a DataFrame or Series through chained assignment using an inplace method.\n",
            "The behavior will change in pandas 3.0. This inplace method will never work because the intermediate object on which we are setting values always behaves as a copy.\n",
            "\n",
            "For example, when doing 'df[col].method(value, inplace=True)', try using 'df.method({col: value}, inplace=True)' or df[col] = df[col].method(value) instead, to perform the operation inplace on the original object.\n",
            "\n",
            "\n",
            "  df[\"PulseRate\"].fillna(df[\"PulseRate\"].mean(), inplace=True)\n"
          ]
        }
      ]
    },
    {
      "cell_type": "code",
      "source": [
        "# 12. Hãy rút gọn dữ liệu phù hợp và reindex lại dữ liệu. Sau đó, lưu trữ dữ liệu đã xử lý thành công với tên file patient_heart_rate_clean.csv\n",
        "df = df[[\"Id\", \"Age\", \"Weight\", \"PulseRate\", \"Sex\", \"Time\"]]\n",
        "df.reset_index(drop=True, inplace=True)\n",
        "\n",
        "df.to_csv(\"patient_heart_rate_clean.csv\", index=False)"
      ],
      "metadata": {
        "id": "MI1Nd2IBE22N"
      },
      "execution_count": null,
      "outputs": []
    }
  ]
}